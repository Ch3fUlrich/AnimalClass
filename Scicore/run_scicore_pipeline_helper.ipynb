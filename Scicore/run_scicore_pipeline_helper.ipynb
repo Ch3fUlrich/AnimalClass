{
 "cells": [
  {
   "cell_type": "markdown",
   "metadata": {},
   "source": [
    "# Explanaition\n",
    "1. asdf\n",
    "2. asdf\n",
    "3. asdf\n",
    "4. "
   ]
  },
  {
   "cell_type": "markdown",
   "metadata": {},
   "source": [
    "## Folder Structure"
   ]
  },
  {
   "cell_type": "markdown",
   "metadata": {},
   "source": [
    "### Only Mesc"
   ]
  },
  {
   "cell_type": "markdown",
   "metadata": {},
   "source": [
    "```\n",
    "───DON-019608\n",
    "    │   DON-019608.yaml\n",
    "    │   \n",
    "    ├───20240126\n",
    "    │   │   20240126.yaml\n",
    "    │   │   \n",
    "    │   └───002P-F\n",
    "    │             DON-019608_20240126_002P-F_S1-S2-ACQ.mesc\n",
    "    │\n",
    "    └───20240127\n",
    "        │   ...\n",
    "       ...\n",
    "```"
   ]
  },
  {
   "cell_type": "markdown",
   "metadata": {},
   "source": [
    "### General Structure"
   ]
  },
  {
   "cell_type": "markdown",
   "metadata": {},
   "source": [
    "```\n",
    "───DON-019608\n",
    "    │   DON-019608.yaml\n",
    "    │   \n",
    "    ├───20240126\n",
    "    │   │   20240126.yaml\n",
    "    │   │   \n",
    "    │   ├───002P-F\n",
    "    │   │   │     DON-019608_20240126_002P-F_S1-S2-ACQ.mesc\n",
    "    │   │   │   \n",
    "    │   │   └───plane0\n",
    "    │   │           F.npy\n",
    "    │   │           Fneu.npy\n",
    "    │   │           iscell.npy\n",
    "    │   │           ops.npy\n",
    "    │   │           spks.npy\n",
    "    │   │           stat.npy\n",
    "    │   └───TRD-2P\n",
    "    │            DON-019608_202401261_TRD-2P_S1-ACQ.mat\n",
    "    │\n",
    "    └───20240127\n",
    "        │   ...\n",
    "       ...\n",
    "```"
   ]
  },
  {
   "cell_type": "markdown",
   "metadata": {},
   "source": [
    "## Imports"
   ]
  },
  {
   "cell_type": "code",
   "execution_count": 6,
   "metadata": {},
   "outputs": [
    {
     "name": "stdout",
     "output_type": "stream",
     "text": [
      "Requirement already satisfied: tqdm in c:\\users\\mauls\\appdata\\roaming\\python\\python311\\site-packages (from -r ..\\requirements.txt (line 1)) (4.65.0)\n",
      "Requirement already satisfied: pandas in c:\\users\\mauls\\appdata\\roaming\\python\\python311\\site-packages (from -r ..\\requirements.txt (line 2)) (2.0.2)\n",
      "Collecting seaborn\n",
      "  Downloading seaborn-0.13.2-py3-none-any.whl (294 kB)\n",
      "     -------------------------------------- 294.9/294.9 kB 9.2 MB/s eta 0:00:00\n",
      "Requirement already satisfied: matplotlib in c:\\users\\mauls\\appdata\\roaming\\python\\python311\\site-packages (from -r ..\\requirements.txt (line 4)) (3.7.1)\n",
      "Requirement already satisfied: numpy in c:\\python311\\lib\\site-packages (from -r ..\\requirements.txt (line 5)) (1.24.3)\n",
      "Requirement already satisfied: scikit-learn in c:\\python311\\lib\\site-packages (from -r ..\\requirements.txt (line 6)) (1.4.0)\n",
      "Requirement already satisfied: parmap in c:\\python311\\lib\\site-packages (from -r ..\\requirements.txt (line 7)) (1.6.0)\n",
      "Requirement already satisfied: scipy in c:\\python311\\lib\\site-packages (from -r ..\\requirements.txt (line 8)) (1.10.1)\n",
      "Requirement already satisfied: opencv-python in c:\\python311\\lib\\site-packages (from -r ..\\requirements.txt (line 9)) (4.7.0.72)\n",
      "Requirement already satisfied: networkx in c:\\python311\\lib\\site-packages (from -r ..\\requirements.txt (line 10)) (3.1)\n",
      "Collecting suite2p\n",
      "  Downloading suite2p-0.14.3-py3-none-any.whl (655 kB)\n",
      "     ------------------------------------- 655.9/655.9 kB 40.4 MB/s eta 0:00:00\n",
      "Requirement already satisfied: mpld3 in c:\\python311\\lib\\site-packages (from -r ..\\requirements.txt (line 12)) (0.5.9)\n",
      "Requirement already satisfied: nest_asyncio in c:\\users\\mauls\\appdata\\roaming\\python\\python311\\site-packages (from -r ..\\requirements.txt (line 13)) (1.5.7)\n",
      "Collecting h5py\n",
      "  Downloading h5py-3.10.0-cp311-cp311-win_amd64.whl (2.7 MB)\n",
      "     ---------------------------------------- 2.7/2.7 MB 85.9 MB/s eta 0:00:00\n",
      "Requirement already satisfied: IPython in c:\\users\\mauls\\appdata\\roaming\\python\\python311\\site-packages (from -r ..\\requirements.txt (line 15)) (8.14.0)\n",
      "Collecting ipywidgets\n",
      "  Downloading ipywidgets-8.1.2-py3-none-any.whl (139 kB)\n",
      "     ---------------------------------------- 139.4/139.4 kB ? eta 0:00:00\n",
      "Requirement already satisfied: psutil in c:\\users\\mauls\\appdata\\roaming\\python\\python311\\site-packages (from -r ..\\requirements.txt (line 17)) (5.9.5)\n",
      "Requirement already satisfied: pyyaml in c:\\python311\\lib\\site-packages (from -r ..\\requirements.txt (line 18)) (6.0.1)\n",
      "Requirement already satisfied: colorama in c:\\users\\mauls\\appdata\\roaming\\python\\python311\\site-packages (from tqdm->-r ..\\requirements.txt (line 1)) (0.4.6)\n",
      "Requirement already satisfied: python-dateutil>=2.8.2 in c:\\python311\\lib\\site-packages (from pandas->-r ..\\requirements.txt (line 2)) (2.8.2)\n",
      "Requirement already satisfied: pytz>=2020.1 in c:\\python311\\lib\\site-packages (from pandas->-r ..\\requirements.txt (line 2)) (2023.3)\n",
      "Requirement already satisfied: tzdata>=2022.1 in c:\\python311\\lib\\site-packages (from pandas->-r ..\\requirements.txt (line 2)) (2023.3)\n",
      "Requirement already satisfied: contourpy>=1.0.1 in c:\\users\\mauls\\appdata\\roaming\\python\\python311\\site-packages (from matplotlib->-r ..\\requirements.txt (line 4)) (1.0.7)\n",
      "Requirement already satisfied: cycler>=0.10 in c:\\users\\mauls\\appdata\\roaming\\python\\python311\\site-packages (from matplotlib->-r ..\\requirements.txt (line 4)) (0.11.0)\n",
      "Requirement already satisfied: fonttools>=4.22.0 in c:\\users\\mauls\\appdata\\roaming\\python\\python311\\site-packages (from matplotlib->-r ..\\requirements.txt (line 4)) (4.39.4)\n",
      "Requirement already satisfied: kiwisolver>=1.0.1 in c:\\users\\mauls\\appdata\\roaming\\python\\python311\\site-packages (from matplotlib->-r ..\\requirements.txt (line 4)) (1.4.4)\n",
      "Requirement already satisfied: packaging>=20.0 in c:\\python311\\lib\\site-packages (from matplotlib->-r ..\\requirements.txt (line 4)) (23.1)\n",
      "Requirement already satisfied: pillow>=6.2.0 in c:\\python311\\lib\\site-packages (from matplotlib->-r ..\\requirements.txt (line 4)) (9.5.0)\n",
      "Requirement already satisfied: pyparsing>=2.3.1 in c:\\python311\\lib\\site-packages (from matplotlib->-r ..\\requirements.txt (line 4)) (3.0.9)\n",
      "Requirement already satisfied: joblib>=1.2.0 in c:\\users\\mauls\\appdata\\roaming\\python\\python311\\site-packages (from scikit-learn->-r ..\\requirements.txt (line 6)) (1.2.0)\n",
      "Requirement already satisfied: threadpoolctl>=2.0.0 in c:\\python311\\lib\\site-packages (from scikit-learn->-r ..\\requirements.txt (line 6)) (3.1.0)\n",
      "Collecting importlib-metadata\n",
      "  Downloading importlib_metadata-7.0.2-py3-none-any.whl (24 kB)\n",
      "Collecting natsort\n",
      "  Downloading natsort-8.4.0-py3-none-any.whl (38 kB)\n",
      "Collecting rastermap>=0.9.0\n",
      "  Downloading rastermap-0.9.4-py3-none-any.whl (88 kB)\n",
      "     ---------------------------------------- 88.1/88.1 kB ? eta 0:00:00\n",
      "Collecting tifffile\n",
      "  Downloading tifffile-2024.2.12-py3-none-any.whl (224 kB)\n",
      "     ---------------------------------------- 224.5/224.5 kB ? eta 0:00:00\n",
      "Requirement already satisfied: torch>=1.13.1 in c:\\users\\mauls\\appdata\\roaming\\python\\python311\\site-packages (from suite2p->-r ..\\requirements.txt (line 11)) (2.1.0)\n",
      "Collecting numba>=0.57.0\n",
      "  Downloading numba-0.59.0-cp311-cp311-win_amd64.whl (2.6 MB)\n",
      "     ---------------------------------------- 2.6/2.6 MB 57.3 MB/s eta 0:00:00\n",
      "Collecting cellpose\n",
      "  Downloading cellpose-3.0.6-py3-none-any.whl (204 kB)\n",
      "     ------------------------------------- 204.4/204.4 kB 12.1 MB/s eta 0:00:00\n",
      "Collecting scanimage-tiff-reader>=1.4.1\n",
      "  Downloading scanimage-tiff-reader-1.4.1.4.tar.gz (1.1 MB)\n",
      "     ---------------------------------------- 1.1/1.1 MB 71.4 MB/s eta 0:00:00\n",
      "  Installing build dependencies: started\n",
      "  Installing build dependencies: finished with status 'done'\n",
      "  Getting requirements to build wheel: started\n",
      "  Getting requirements to build wheel: finished with status 'done'\n",
      "  Installing backend dependencies: started\n",
      "  Installing backend dependencies: finished with status 'done'\n",
      "  Preparing metadata (pyproject.toml): started\n",
      "  Preparing metadata (pyproject.toml): finished with status 'done'\n",
      "Requirement already satisfied: jinja2 in c:\\python311\\lib\\site-packages (from mpld3->-r ..\\requirements.txt (line 12)) (3.1.2)\n",
      "Requirement already satisfied: backcall in c:\\users\\mauls\\appdata\\roaming\\python\\python311\\site-packages (from IPython->-r ..\\requirements.txt (line 15)) (0.2.0)\n",
      "Requirement already satisfied: decorator in c:\\users\\mauls\\appdata\\roaming\\python\\python311\\site-packages (from IPython->-r ..\\requirements.txt (line 15)) (5.1.1)\n",
      "Requirement already satisfied: jedi>=0.16 in c:\\users\\mauls\\appdata\\roaming\\python\\python311\\site-packages (from IPython->-r ..\\requirements.txt (line 15)) (0.19.0)\n",
      "Requirement already satisfied: matplotlib-inline in c:\\users\\mauls\\appdata\\roaming\\python\\python311\\site-packages (from IPython->-r ..\\requirements.txt (line 15)) (0.1.6)\n",
      "Requirement already satisfied: pickleshare in c:\\users\\mauls\\appdata\\roaming\\python\\python311\\site-packages (from IPython->-r ..\\requirements.txt (line 15)) (0.7.5)\n",
      "Requirement already satisfied: prompt-toolkit!=3.0.37,<3.1.0,>=3.0.30 in c:\\users\\mauls\\appdata\\roaming\\python\\python311\\site-packages (from IPython->-r ..\\requirements.txt (line 15)) (3.0.39)\n",
      "Requirement already satisfied: pygments>=2.4.0 in c:\\users\\mauls\\appdata\\roaming\\python\\python311\\site-packages (from IPython->-r ..\\requirements.txt (line 15)) (2.15.1)\n",
      "Requirement already satisfied: stack-data in c:\\users\\mauls\\appdata\\roaming\\python\\python311\\site-packages (from IPython->-r ..\\requirements.txt (line 15)) (0.6.2)\n",
      "Requirement already satisfied: traitlets>=5 in c:\\users\\mauls\\appdata\\roaming\\python\\python311\\site-packages (from IPython->-r ..\\requirements.txt (line 15)) (5.9.0)\n",
      "Requirement already satisfied: comm>=0.1.3 in c:\\users\\mauls\\appdata\\roaming\\python\\python311\\site-packages (from ipywidgets->-r ..\\requirements.txt (line 16)) (0.1.4)\n",
      "Collecting widgetsnbextension~=4.0.10\n",
      "  Downloading widgetsnbextension-4.0.10-py3-none-any.whl (2.3 MB)\n",
      "     ---------------------------------------- 2.3/2.3 MB 48.6 MB/s eta 0:00:00\n",
      "Collecting jupyterlab-widgets~=3.0.10\n",
      "  Downloading jupyterlab_widgets-3.0.10-py3-none-any.whl (215 kB)\n",
      "     ------------------------------------- 215.0/215.0 kB 12.8 MB/s eta 0:00:00\n",
      "Requirement already satisfied: parso<0.9.0,>=0.8.3 in c:\\users\\mauls\\appdata\\roaming\\python\\python311\\site-packages (from jedi>=0.16->IPython->-r ..\\requirements.txt (line 15)) (0.8.3)\n",
      "Collecting llvmlite<0.43,>=0.42.0dev0\n",
      "  Downloading llvmlite-0.42.0-cp311-cp311-win_amd64.whl (28.1 MB)\n",
      "     --------------------------------------- 28.1/28.1 MB 54.4 MB/s eta 0:00:00\n",
      "Requirement already satisfied: wcwidth in c:\\users\\mauls\\appdata\\roaming\\python\\python311\\site-packages (from prompt-toolkit!=3.0.37,<3.1.0,>=3.0.30->IPython->-r ..\\requirements.txt (line 15)) (0.2.6)\n",
      "Requirement already satisfied: six>=1.5 in c:\\python311\\lib\\site-packages (from python-dateutil>=2.8.2->pandas->-r ..\\requirements.txt (line 2)) (1.16.0)\n",
      "Requirement already satisfied: filelock in c:\\users\\mauls\\appdata\\roaming\\python\\python311\\site-packages (from torch>=1.13.1->suite2p->-r ..\\requirements.txt (line 11)) (3.13.1)\n",
      "Requirement already satisfied: typing-extensions in c:\\python311\\lib\\site-packages (from torch>=1.13.1->suite2p->-r ..\\requirements.txt (line 11)) (4.8.0)\n",
      "Requirement already satisfied: sympy in c:\\python311\\lib\\site-packages (from torch>=1.13.1->suite2p->-r ..\\requirements.txt (line 11)) (1.12)\n",
      "Requirement already satisfied: fsspec in c:\\users\\mauls\\appdata\\roaming\\python\\python311\\site-packages (from torch>=1.13.1->suite2p->-r ..\\requirements.txt (line 11)) (2023.10.0)\n",
      "Collecting opencv-python-headless\n",
      "  Downloading opencv_python_headless-4.9.0.80-cp37-abi3-win_amd64.whl (38.5 MB)\n",
      "     --------------------------------------- 38.5/38.5 MB 36.4 MB/s eta 0:00:00\n",
      "Collecting fastremap\n",
      "  Downloading fastremap-1.14.1-cp311-cp311-win_amd64.whl (628 kB)\n",
      "     ------------------------------------- 628.4/628.4 kB 41.2 MB/s eta 0:00:00\n",
      "Collecting imagecodecs\n",
      "  Downloading imagecodecs-2024.1.1-cp311-cp311-win_amd64.whl (25.4 MB)\n",
      "     --------------------------------------- 25.4/25.4 MB 46.7 MB/s eta 0:00:00\n",
      "Collecting roifile\n",
      "  Downloading roifile-2024.1.10-py3-none-any.whl (16 kB)\n",
      "Collecting zipp>=0.5\n",
      "  Using cached zipp-3.17.0-py3-none-any.whl (7.4 kB)\n",
      "Requirement already satisfied: MarkupSafe>=2.0 in c:\\python311\\lib\\site-packages (from jinja2->mpld3->-r ..\\requirements.txt (line 12)) (2.1.3)\n",
      "Requirement already satisfied: executing>=1.2.0 in c:\\users\\mauls\\appdata\\roaming\\python\\python311\\site-packages (from stack-data->IPython->-r ..\\requirements.txt (line 15)) (1.2.0)\n",
      "Requirement already satisfied: asttokens>=2.1.0 in c:\\users\\mauls\\appdata\\roaming\\python\\python311\\site-packages (from stack-data->IPython->-r ..\\requirements.txt (line 15)) (2.2.1)\n",
      "Requirement already satisfied: pure-eval in c:\\users\\mauls\\appdata\\roaming\\python\\python311\\site-packages (from stack-data->IPython->-r ..\\requirements.txt (line 15)) (0.2.2)\n",
      "Requirement already satisfied: mpmath>=0.19 in c:\\python311\\lib\\site-packages (from sympy->torch>=1.13.1->suite2p->-r ..\\requirements.txt (line 11)) (1.3.0)\n",
      "Building wheels for collected packages: scanimage-tiff-reader\n",
      "  Building wheel for scanimage-tiff-reader (pyproject.toml): started\n",
      "  Building wheel for scanimage-tiff-reader (pyproject.toml): finished with status 'done'\n",
      "  Created wheel for scanimage-tiff-reader: filename=scanimage_tiff_reader-1.4.1.4-cp311-cp311-win_amd64.whl size=1092188 sha256=84897c9b93ed1c73370fb654ecd09dcaf072e1dfc5830ae27037f8c6b525e318\n",
      "  Stored in directory: c:\\users\\mauls\\appdata\\local\\pip\\cache\\wheels\\13\\13\\e8\\46f107ddeab5e92deb15af66afb668ecf07608b966e0b58604\n",
      "Successfully built scanimage-tiff-reader\n",
      "Installing collected packages: zipp, widgetsnbextension, tifffile, scanimage-tiff-reader, roifile, opencv-python-headless, natsort, llvmlite, jupyterlab-widgets, imagecodecs, h5py, fastremap, numba, importlib-metadata, seaborn, rastermap, cellpose, suite2p, ipywidgets\n",
      "Note: you may need to restart the kernel to use updated packages.\n"
     ]
    },
    {
     "name": "stderr",
     "output_type": "stream",
     "text": [
      "ERROR: Could not install packages due to an OSError: [WinError 5] Access is denied: 'c:\\\\Python311\\\\etc'\n",
      "Consider using the `--user` option or check the permissions.\n",
      "\n"
     ]
    }
   ],
   "source": [
    "%conda install --file ..\\requirements.txt\n",
    "# %git clone https://github.com/Ch3fUlrich/manifolds.git\n",
    "# %pip install -r ..\\requirements.txt"
   ]
  },
  {
   "cell_type": "code",
   "execution_count": 1,
   "metadata": {},
   "outputs": [
    {
     "ename": "ModuleNotFoundError",
     "evalue": "No module named 'manifolds'",
     "output_type": "error",
     "traceback": [
      "\u001b[1;31m---------------------------------------------------------------------------\u001b[0m",
      "\u001b[1;31mModuleNotFoundError\u001b[0m                       Traceback (most recent call last)",
      "Input \u001b[1;32mIn [1]\u001b[0m, in \u001b[0;36m<cell line: 2>\u001b[1;34m()\u001b[0m\n\u001b[0;32m      1\u001b[0m \u001b[38;5;66;03m# Imports\u001b[39;00m\n\u001b[1;32m----> 2\u001b[0m \u001b[38;5;28;01mfrom\u001b[39;00m \u001b[38;5;21;01mcreate_commands_list\u001b[39;00m \u001b[38;5;28;01mimport\u001b[39;00m create_commands_file\n\u001b[0;32m      3\u001b[0m \u001b[38;5;28;01mfrom\u001b[39;00m \u001b[38;5;21;01mscicore_file_creation\u001b[39;00m \u001b[38;5;28;01mimport\u001b[39;00m create_sbatch_file, create_commands_file, run_pipeline\n",
      "File \u001b[1;32mc:\\Users\\mauls\\OneDrive\\Desktop\\temp\\New folder\\AnimalClass\\Scicore\\create_commands_list.py:13\u001b[0m, in \u001b[0;36m<module>\u001b[1;34m\u001b[0m\n\u001b[0;32m     10\u001b[0m module_path \u001b[38;5;241m=\u001b[39m os\u001b[38;5;241m.\u001b[39mpath\u001b[38;5;241m.\u001b[39mabspath(os\u001b[38;5;241m.\u001b[39mpath\u001b[38;5;241m.\u001b[39mjoin(\u001b[38;5;124m\"\u001b[39m\u001b[38;5;124m../\u001b[39m\u001b[38;5;124m\"\u001b[39m))\n\u001b[0;32m     11\u001b[0m sys\u001b[38;5;241m.\u001b[39mpath\u001b[38;5;241m.\u001b[39mappend(module_path)\n\u001b[1;32m---> 13\u001b[0m \u001b[38;5;28;01mfrom\u001b[39;00m \u001b[38;5;21;01mClasses\u001b[39;00m \u001b[38;5;28;01mimport\u001b[39;00m Animal, load_all\n\u001b[0;32m     14\u001b[0m \u001b[38;5;28;01mfrom\u001b[39;00m \u001b[38;5;21;01mHelper\u001b[39;00m \u001b[38;5;28;01mimport\u001b[39;00m \u001b[38;5;241m*\u001b[39m\n\u001b[0;32m     16\u001b[0m \u001b[38;5;66;03m# set correct root directory for your animal data\u001b[39;00m\n\u001b[0;32m     17\u001b[0m \u001b[38;5;66;03m# root_dir = \"\\\\\\\\toucan-all.scicore.unibas.ch\\\\donafl00-calcium$\\\\Users\\\\Sergej\\\\Steffen_Experiments\"\u001b[39;00m\n\u001b[0;32m     18\u001b[0m \u001b[38;5;66;03m# root_dir = \"/scicore/projects/donafl00-calcium/Users/Sergej/Steffen_Experiments\"\u001b[39;00m\n",
      "File \u001b[1;32mc:\\Users\\mauls\\OneDrive\\Desktop\\temp\\New folder\\AnimalClass\\Classes.py:61\u001b[0m, in \u001b[0;36m<module>\u001b[1;34m\u001b[0m\n\u001b[0;32m     51\u001b[0m \u001b[38;5;66;03m# run matlab code\u001b[39;00m\n\u001b[0;32m     52\u001b[0m \u001b[38;5;66;03m# octave needs to be installed in your PATH environment variable https://octave.org/download\u001b[39;00m\n\u001b[0;32m     53\u001b[0m \u001b[38;5;66;03m# from oct2py import octave\u001b[39;00m\n\u001b[1;32m   (...)\u001b[0m\n\u001b[0;32m     58\u001b[0m \u001b[38;5;66;03m# print(module_path)\u001b[39;00m\n\u001b[0;32m     59\u001b[0m \u001b[38;5;66;03m# sys.path.append(module_path)\u001b[39;00m\n\u001b[0;32m     60\u001b[0m \u001b[38;5;28;01mfrom\u001b[39;00m \u001b[38;5;21;01mHelper\u001b[39;00m \u001b[38;5;28;01mimport\u001b[39;00m \u001b[38;5;241m*\u001b[39m\n\u001b[1;32m---> 61\u001b[0m \u001b[38;5;28;01mfrom\u001b[39;00m \u001b[38;5;21;01mmanifolds\u001b[39;00m\u001b[38;5;21;01m.\u001b[39;00m\u001b[38;5;21;01mdonlabtools\u001b[39;00m\u001b[38;5;21;01m.\u001b[39;00m\u001b[38;5;21;01mutils\u001b[39;00m\u001b[38;5;21;01m.\u001b[39;00m\u001b[38;5;21;01mcalcium\u001b[39;00m \u001b[38;5;28;01mimport\u001b[39;00m calcium\n\u001b[0;32m     62\u001b[0m \u001b[38;5;28;01mfrom\u001b[39;00m \u001b[38;5;21;01mmanifolds\u001b[39;00m\u001b[38;5;21;01m.\u001b[39;00m\u001b[38;5;21;01mdonlabtools\u001b[39;00m\u001b[38;5;21;01m.\u001b[39;00m\u001b[38;5;21;01mutils\u001b[39;00m\u001b[38;5;21;01m.\u001b[39;00m\u001b[38;5;21;01mcalcium\u001b[39;00m\u001b[38;5;21;01m.\u001b[39;00m\u001b[38;5;21;01mcalcium\u001b[39;00m \u001b[38;5;28;01mimport\u001b[39;00m \u001b[38;5;241m*\u001b[39m\n\u001b[0;32m     64\u001b[0m \u001b[38;5;28;01mimport\u001b[39;00m \u001b[38;5;21;01mlogging\u001b[39;00m\n",
      "\u001b[1;31mModuleNotFoundError\u001b[0m: No module named 'manifolds'"
     ]
    }
   ],
   "source": [
    "# Imports\n",
    "from create_commands_list import create_commands_file\n",
    "from scicore_file_creation import create_sbatch_file, create_commands_file, run_pipeline"
   ]
  },
  {
   "cell_type": "markdown",
   "metadata": {},
   "source": [
    "## Running"
   ]
  },
  {
   "cell_type": "code",
   "execution_count": 1,
   "metadata": {},
   "outputs": [],
   "source": [
    "# Settings\n",
    "\n",
    "## Names\n",
    "### Important\n",
    "username = \"mauser00\"               # Your username\n",
    "project_folder = \"Intrinsic_Imaging\"# Your project folder\n",
    "project_folder = \"Steffens_Experiments\"# Your project folder\n",
    "conda_env_name = \"animal_sergej\"    # Write your definded your conda environment\n",
    "mail_user = \"your.name@unibas.ch\"   # Your mail address for notifications\n",
    "### Optional\n",
    "pipeline_name = \"pipeline\"          # .sh script naming: Choose as you want\n",
    "commands_fname = \"commands.cmd\"     # commands file_name used in .sh script: Choose as you want\n",
    "job_name = \"converting\"             # job_name while running on scicore: Choose as you want\n",
    "output_name = \"converted\"           # file_name in output folder: Choose as you want\n",
    "\n",
    "## Paths\n",
    "project_root_dir = f\"/scicore/projects/donafl00-calcium/Users/{username}/{project_folder}\"  # Your project root directory\n",
    "\n",
    "## Dataset choosing (choose all by writing [\"all\"])\n",
    "wanted_animal_ids = [\"DON-019608\"]  # Choose the animal ids you want to process, e.g. [\"DON-019608\", \"DON-019609\"]\n",
    "wanted_session_ids = [\"20240126\"]  # Choose the session ids you want to process, e.g. [\"20240126\", \"20240127\"]\n",
    "\n",
    "## Harware\n",
    "### Number of cores and RAM per cpu\n",
    "n_cores = 1\n",
    "memory = 8\n",
    "\n",
    "## Time reservation for each individal session on scicore\n",
    "days = 0\n",
    "hours = 6\n",
    "minutes = 0\n",
    "seconds = 0"
   ]
  },
  {
   "cell_type": "code",
   "execution_count": 2,
   "metadata": {},
   "outputs": [
    {
     "ename": "NameError",
     "evalue": "name 'create_commands_file' is not defined",
     "output_type": "error",
     "traceback": [
      "\u001b[1;31m---------------------------------------------------------------------------\u001b[0m",
      "\u001b[1;31mNameError\u001b[0m                                 Traceback (most recent call last)",
      "Cell \u001b[1;32mIn[2], line 1\u001b[0m\n\u001b[1;32m----> 1\u001b[0m commands_fname \u001b[38;5;241m=\u001b[39m \u001b[43mcreate_commands_file\u001b[49m(\n\u001b[0;32m      2\u001b[0m     commands_fname\u001b[38;5;241m=\u001b[39mcommands_fname,\n\u001b[0;32m      3\u001b[0m     wanted_animal_ids\u001b[38;5;241m=\u001b[39mwanted_animal_ids,\n\u001b[0;32m      4\u001b[0m     wanted_session_ids\u001b[38;5;241m=\u001b[39mwanted_session_ids,\n\u001b[0;32m      5\u001b[0m     project_root_dir\u001b[38;5;241m=\u001b[39mproject_root_dir,\n\u001b[0;32m      6\u001b[0m )\n\u001b[0;32m      8\u001b[0m sbatch_fname \u001b[38;5;241m=\u001b[39m create_sbatch_file(\n\u001b[0;32m      9\u001b[0m     commands_fname \u001b[38;5;241m=\u001b[39m commands_fname,\n\u001b[0;32m     10\u001b[0m     pipeline \u001b[38;5;241m=\u001b[39m pipeline_name,\n\u001b[1;32m   (...)\u001b[0m\n\u001b[0;32m     23\u001b[0m     username \u001b[38;5;241m=\u001b[39m username,\n\u001b[0;32m     24\u001b[0m )\n",
      "\u001b[1;31mNameError\u001b[0m: name 'create_commands_file' is not defined"
     ]
    }
   ],
   "source": [
    "commands_fname = create_commands_file(\n",
    "    commands_fname=commands_fname,\n",
    "    wanted_animal_ids=wanted_animal_ids,\n",
    "    wanted_session_ids=wanted_session_ids,\n",
    "    project_root_dir=project_root_dir,\n",
    ")\n",
    "\n",
    "sbatch_fname = create_sbatch_file(\n",
    "    commands_fname = commands_fname,\n",
    "    pipeline = pipeline_name,\n",
    "    job_name = job_name,\n",
    "    n_cores = n_cores,\n",
    "    memory_per_core = memory,\n",
    "    days = days,\n",
    "    n_hours = hours,\n",
    "    n_minutes = minutes,\n",
    "    n_seconds = seconds,\n",
    "    start_line = None,\n",
    "    end_line = None,\n",
    "    output_name = output_name,\n",
    "    mail_user = mail_user,\n",
    "    conda_env_name = conda_env_name,\n",
    "    username = username,\n",
    ")"
   ]
  },
  {
   "cell_type": "code",
   "execution_count": null,
   "metadata": {},
   "outputs": [],
   "source": [
    "run_pipeline(sbatch_fname)\n"
   ]
  }
 ],
 "metadata": {
  "kernelspec": {
   "display_name": "Python 3",
   "language": "python",
   "name": "python3"
  },
  "language_info": {
   "codemirror_mode": {
    "name": "ipython",
    "version": 3
   },
   "file_extension": ".py",
   "mimetype": "text/x-python",
   "name": "python",
   "nbconvert_exporter": "python",
   "pygments_lexer": "ipython3",
   "version": "3.8.16"
  }
 },
 "nbformat": 4,
 "nbformat_minor": 2
}
