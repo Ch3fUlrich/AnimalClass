{
 "cells": [
  {
   "cell_type": "markdown",
   "metadata": {},
   "source": [
    "# Explanaition\n",
    "This script is:\n",
    "0. uses your Settings defined below for the next steps\n",
    "1. creates a list of commands and saves them in a commands file, \n",
    "   1. so every session can be run in an individual job\n",
    "   2. and every job could theoretically run at the same time\n",
    "2. creates a SLURM jobs script based on your\n",
    "   1. that reads the commands list and creates a job for every line in the commands file\n",
    "3. runs the created SLURM script\n",
    "   1. Outputs/Errors are saved in AnimalClass/Scicore/Outputs"
   ]
  },
  {
   "cell_type": "markdown",
   "metadata": {},
   "source": [
    "## Folder Structure"
   ]
  },
  {
   "cell_type": "markdown",
   "metadata": {},
   "source": [
    "### Femtonics (Mesc Files)"
   ]
  },
  {
   "cell_type": "markdown",
   "metadata": {},
   "source": [
    "```\n",
    "───DON-019608\n",
    "    │   DON-019608.yaml\n",
    "    │   \n",
    "    ├───20240126\n",
    "    │   │   20240126.yaml\n",
    "    │   │   \n",
    "    │   └───002P-F\n",
    "    │             DON-019608_20240126_002P-F_S1-S2-ACQ.mesc\n",
    "    │\n",
    "    └───20240127\n",
    "        │   ...\n",
    "       ...\n",
    "```"
   ]
  },
  {
   "cell_type": "markdown",
   "metadata": {},
   "source": [
    "### Bscope (RAW Files)"
   ]
  },
  {
   "cell_type": "markdown",
   "metadata": {},
   "source": [
    "```\n",
    "───DON-019608\n",
    "    │   DON-019608.yaml\n",
    "    │   \n",
    "    ├───20240126\n",
    "    │   │   20240126.yaml\n",
    "    │   │   \n",
    "    │   └───data\n",
    "    │           Image_001_001.raw\n",
    "    │\n",
    "    └───20240127\n",
    "        │   ...\n",
    "       ...\n",
    "```"
   ]
  },
  {
   "cell_type": "markdown",
   "metadata": {},
   "source": [
    "## Imports"
   ]
  },
  {
   "cell_type": "code",
   "execution_count": 2,
   "metadata": {},
   "outputs": [
    {
     "data": {
      "application/javascript": "IPython.notebook.set_autosave_interval(180000)"
     },
     "metadata": {},
     "output_type": "display_data"
    },
    {
     "name": "stdout",
     "output_type": "stream",
     "text": [
      "Autosaving every 180 seconds\n"
     ]
    }
   ],
   "source": [
    "# Imports\n",
    "from create_commands_list import create_commands_file\n",
    "from scicore_file_creation import create_sbatch_file, create_commands_file, run_pipeline\n",
    "%matplotlib inline\n",
    "#%matplotlib tk\n",
    "%autosave 180\n",
    "%load_ext autoreload\n",
    "%autoreload 2\n",
    "%config Completer.use_jedi = False"
   ]
  },
  {
   "cell_type": "markdown",
   "metadata": {},
   "source": [
    "## Settings"
   ]
  },
  {
   "cell_type": "code",
   "execution_count": 11,
   "metadata": {},
   "outputs": [],
   "source": [
    "# Settings\n",
    "\n",
    "## Names\n",
    "username = \"mauser00\"                   # Your username\n",
    "donafl00_user_folder_name = \"Sergej\"    # Your \\\\toucan-all.scicore.unibas.ch\\donafl00-calcium$\\Users\\\n",
    "project_folder = \"Intrinsic_Imaging\"    # Your project folder\n",
    "conda_env_name = \"animal_env\"           # Write your definded your conda environment\n",
    "mail_user = \"your.name@unibas.ch\"       # Your mail address for notifications\n",
    "pipeline_name = \"pipeline\"              # .sh script naming: Choose as you want\n",
    "commands_fname = \"commands.cmd\"         # commands file_name used in .sh script: Choose as you want\n",
    "job_name = \"converting\"                 # job_name while running on scicore: Choose as you want\n",
    "output_name = \"converted\"               # file_name in output folder: Choose as you want\n",
    "\n",
    "\n",
    "## Pipeline Settings\n",
    "mesc_to_tiff=True           # estimated time 1h\n",
    "suite2p=True                # estimated time 2h\n",
    "binarize=True               # estimated time 0.1h\n",
    "pairwise_correlate=False    # estimated time 2h\n",
    "\n",
    "\n",
    "## Paths\n",
    "## running on Scicore\n",
    "project_root_dir = f\"/scicore/projects/donafl00-calcium/Users/{donafl00_user_folder_name}/{project_folder}\"  # Your project root directory\n",
    "\n",
    "\n",
    "## Dataset choosing (choose all by writing [\"all\"])\n",
    "wanted_animal_ids = [\"DON-019608\"]  # Choose the animal ids you want to process, e.g. [\"DON-019608\", \"DON-019609\"]\n",
    "wanted_session_ids = [\"20240126\"]  # Choose the session ids you want to process, e.g. [\"20240126\", \"20240127\"]\n",
    "\n",
    "\n",
    "## Harware\n",
    "### Number of cores and RAM per cpu\n",
    "n_cpus = 10\n",
    "memory = 8\n",
    "\n",
    "\n",
    "## Time reservation for each individal session on scicore\n",
    "days = 0\n",
    "hours = 6\n",
    "minutes = 0\n",
    "seconds = 0"
   ]
  },
  {
   "cell_type": "markdown",
   "metadata": {},
   "source": [
    "## Running"
   ]
  },
  {
   "cell_type": "code",
   "execution_count": 14,
   "metadata": {},
   "outputs": [
    {
     "name": "stdout",
     "output_type": "stream",
     "text": [
      "Added animal: DON-019608\n",
      "Initialized session: DON-019608 20240126\n"
     ]
    }
   ],
   "source": [
    "# create list of commands for running multiple jobs at once\n",
    "commands_fname = create_commands_file(\n",
    "    commands_fname=commands_fname,\n",
    "    wanted_animal_ids=wanted_animal_ids,\n",
    "    wanted_session_ids=wanted_session_ids,\n",
    "    project_root_dir=project_root_dir,\n",
    "    mesc_to_tiff=mesc_to_tiff,\n",
    "    suite2p=suite2p,\n",
    "    binarize=binarize,\n",
    "    pairwise_correlate=pairwise_correlate,\n",
    ")"
   ]
  },
  {
   "cell_type": "code",
   "execution_count": 9,
   "metadata": {},
   "outputs": [],
   "source": [
    "# create jobscript for running every command in the commands file\n",
    "sbatch_fname = create_sbatch_file(\n",
    "    commands_fname = commands_fname,\n",
    "    pipeline = pipeline_name,\n",
    "    job_name = job_name,\n",
    "    n_cpus = n_cpus,\n",
    "    memory_per_cpu = memory,\n",
    "    days = days,\n",
    "    n_hours = hours,\n",
    "    n_minutes = minutes,\n",
    "    n_seconds = seconds,\n",
    "    start_line = None, # can be set to skip the first n lines of the commands file\n",
    "    end_line = None, # can be set to stop after the first n lines of the commands file\n",
    "    output_name = output_name,\n",
    "    mail_user = mail_user,\n",
    "    conda_env_name = conda_env_name,\n",
    "    username = username,\n",
    ")"
   ]
  },
  {
   "cell_type": "code",
   "execution_count": null,
   "metadata": {},
   "outputs": [],
   "source": [
    "# run jobscript\n",
    "run_pipeline(sbatch_fname)"
   ]
  },
  {
   "cell_type": "markdown",
   "metadata": {},
   "source": [
    "## Usefull Terminal Slurm Commands"
   ]
  },
  {
   "cell_type": "markdown",
   "metadata": {},
   "source": [
    "1. Check in the Terminal if the jobs are running\n",
    "``` bash\n",
    "squeue -u <username> -s\n",
    "```\n",
    "2. Check every 60 seconds if the pipeline is running\n",
    "```bash\n",
    "   while true;do squeue -u <username> -s; sleep 60; done\n",
    "```\n",
    "3. Cancel running job\n",
    "```bash\n",
    "    # by Job ID\n",
    "    scancel <jobID>\n",
    "    # by username\n",
    "    scancel -u <username>\n",
    "```"
   ]
  }
 ],
 "metadata": {
  "kernelspec": {
   "display_name": "Python 3",
   "language": "python",
   "name": "python3"
  },
  "language_info": {
   "codemirror_mode": {
    "name": "ipython",
    "version": 3
   },
   "file_extension": ".py",
   "mimetype": "text/x-python",
   "name": "python",
   "nbconvert_exporter": "python",
   "pygments_lexer": "ipython3",
   "version": "3.8.16"
  }
 },
 "nbformat": 4,
 "nbformat_minor": 2
}
