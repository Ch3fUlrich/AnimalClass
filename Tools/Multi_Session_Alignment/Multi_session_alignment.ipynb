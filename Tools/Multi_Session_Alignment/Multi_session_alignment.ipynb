{
 "cells": [
  {
   "cell_type": "markdown",
   "metadata": {},
   "source": [
    "#### Needed Folder structure\n",
    "```\n",
    "───DON-011733\n",
    "    │   DON-011733.yaml\n",
    "    │   \n",
    "    ├───20230306\n",
    "    │   │   Image_001_001.raw\n",
    "    │   │   DON-011733_20230306.yaml\n",
    "    │   │   \n",
    "    │   └───plane0\n",
    "    │           F.npy\n",
    "    │           Fneu.npy\n",
    "    │           iscell.npy\n",
    "    │           ops.npy\n",
    "    │           spks.npy\n",
    "    │           stat.npy\n",
    "    │           \n",
    "    └───day0\n",
    "        │   Image_001_001.raw\n",
    "        │   DON-011733_20230302.yaml\n",
    "        │   \n",
    "        └───plane0\n",
    "                F.npy\n",
    "                Fneu.npy\n",
    "                iscell.npy\n",
    "                ops.npy\n",
    "                spks.npy\n",
    "                stat.npy\n",
    "```"
   ]
  },
  {
   "cell_type": "markdown",
   "metadata": {},
   "source": [
    "#### Imports"
   ]
  },
  {
   "cell_type": "code",
   "execution_count": 4,
   "metadata": {},
   "outputs": [
    {
     "name": "stdout",
     "output_type": "stream",
     "text": [
      "Requirement already satisfied: pyyaml==6.0 in c:\\users\\mauls\\miniconda3\\envs\\manifolds\\lib\\site-packages (6.0)\n",
      "Requirement already satisfied: numpy==1.23.5 in c:\\users\\mauls\\miniconda3\\envs\\manifolds\\lib\\site-packages (1.23.5)\n",
      "Requirement already satisfied: suite2p==0.12.1 in c:\\users\\mauls\\miniconda3\\envs\\manifolds\\lib\\site-packages (0.12.1)\n",
      "Requirement already satisfied: parmap==1.6.0 in c:\\users\\mauls\\miniconda3\\envs\\manifolds\\lib\\site-packages (1.6.0)\n",
      "Requirement already satisfied: scipy>=1.9.0 in c:\\users\\mauls\\miniconda3\\envs\\manifolds\\lib\\site-packages (from suite2p==0.12.1) (1.10.1)\n",
      "Requirement already satisfied: rastermap>0.1.0 in c:\\users\\mauls\\miniconda3\\envs\\manifolds\\lib\\site-packages (from suite2p==0.12.1) (0.1.3)\n",
      "Requirement already satisfied: scikit-learn in c:\\users\\mauls\\miniconda3\\envs\\manifolds\\lib\\site-packages (from suite2p==0.12.1) (1.2.2)\n",
      "Requirement already satisfied: cellpose in c:\\users\\mauls\\miniconda3\\envs\\manifolds\\lib\\site-packages (from suite2p==0.12.1) (2.2)\n",
      "Requirement already satisfied: paramiko in c:\\users\\mauls\\miniconda3\\envs\\manifolds\\lib\\site-packages (from suite2p==0.12.1) (3.1.0)\n",
      "Requirement already satisfied: h5py in c:\\users\\mauls\\miniconda3\\envs\\manifolds\\lib\\site-packages (from suite2p==0.12.1) (3.8.0)\n",
      "Requirement already satisfied: sbxreader in c:\\users\\mauls\\miniconda3\\envs\\manifolds\\lib\\site-packages (from suite2p==0.12.1) (0.2.2)\n",
      "Requirement already satisfied: tifffile in c:\\users\\mauls\\miniconda3\\envs\\manifolds\\lib\\site-packages (from suite2p==0.12.1) (2023.4.12)\n",
      "Requirement already satisfied: nd2 in c:\\users\\mauls\\miniconda3\\envs\\manifolds\\lib\\site-packages (from suite2p==0.12.1) (0.5.3)\n",
      "Requirement already satisfied: scanimage-tiff-reader>=1.4.1 in c:\\users\\mauls\\miniconda3\\envs\\manifolds\\lib\\site-packages (from suite2p==0.12.1) (1.4.1)\n",
      "Requirement already satisfied: torch==1.13.1 in c:\\users\\mauls\\miniconda3\\envs\\manifolds\\lib\\site-packages (from suite2p==0.12.1) (1.13.1)\n",
      "Requirement already satisfied: matplotlib in c:\\users\\mauls\\miniconda3\\envs\\manifolds\\lib\\site-packages (from suite2p==0.12.1) (3.7.1)\n",
      "Requirement already satisfied: importlib-metadata in c:\\users\\mauls\\miniconda3\\envs\\manifolds\\lib\\site-packages (from suite2p==0.12.1) (6.6.0)\n",
      "Requirement already satisfied: natsort in c:\\users\\mauls\\miniconda3\\envs\\manifolds\\lib\\site-packages (from suite2p==0.12.1) (8.3.1)\n",
      "Requirement already satisfied: numba>=0.43.1 in c:\\users\\mauls\\miniconda3\\envs\\manifolds\\lib\\site-packages (from suite2p==0.12.1) (0.57.0)\n",
      "Requirement already satisfied: typing-extensions in c:\\users\\mauls\\miniconda3\\envs\\manifolds\\lib\\site-packages (from torch==1.13.1->suite2p==0.12.1) (4.5.0)\n",
      "Requirement already satisfied: llvmlite<0.41,>=0.40.0dev0 in c:\\users\\mauls\\miniconda3\\envs\\manifolds\\lib\\site-packages (from numba>=0.43.1->suite2p==0.12.1) (0.40.0)\n",
      "Requirement already satisfied: pyqtgraph in c:\\users\\mauls\\miniconda3\\envs\\manifolds\\lib\\site-packages (from rastermap>0.1.0->suite2p==0.12.1) (0.13.3)\n",
      "Requirement already satisfied: opencv-python-headless in c:\\users\\mauls\\miniconda3\\envs\\manifolds\\lib\\site-packages (from cellpose->suite2p==0.12.1) (4.7.0.72)\n",
      "Requirement already satisfied: fastremap in c:\\users\\mauls\\miniconda3\\envs\\manifolds\\lib\\site-packages (from cellpose->suite2p==0.12.1) (1.13.4)\n",
      "Requirement already satisfied: tqdm in c:\\users\\mauls\\miniconda3\\envs\\manifolds\\lib\\site-packages (from cellpose->suite2p==0.12.1) (4.65.0)\n",
      "Requirement already satisfied: imagecodecs in c:\\users\\mauls\\miniconda3\\envs\\manifolds\\lib\\site-packages (from cellpose->suite2p==0.12.1) (2023.3.16)\n",
      "Requirement already satisfied: zipp>=0.5 in c:\\users\\mauls\\miniconda3\\envs\\manifolds\\lib\\site-packages (from importlib-metadata->suite2p==0.12.1) (3.15.0)\n",
      "Requirement already satisfied: contourpy>=1.0.1 in c:\\users\\mauls\\miniconda3\\envs\\manifolds\\lib\\site-packages (from matplotlib->suite2p==0.12.1) (1.0.7)\n",
      "Requirement already satisfied: kiwisolver>=1.0.1 in c:\\users\\mauls\\miniconda3\\envs\\manifolds\\lib\\site-packages (from matplotlib->suite2p==0.12.1) (1.4.4)\n",
      "Requirement already satisfied: packaging>=20.0 in c:\\users\\mauls\\miniconda3\\envs\\manifolds\\lib\\site-packages (from matplotlib->suite2p==0.12.1) (23.1)\n",
      "Requirement already satisfied: pillow>=6.2.0 in c:\\users\\mauls\\miniconda3\\envs\\manifolds\\lib\\site-packages (from matplotlib->suite2p==0.12.1) (9.5.0)\n",
      "Requirement already satisfied: fonttools>=4.22.0 in c:\\users\\mauls\\miniconda3\\envs\\manifolds\\lib\\site-packages (from matplotlib->suite2p==0.12.1) (4.39.3)\n",
      "Requirement already satisfied: pyparsing>=2.3.1 in c:\\users\\mauls\\miniconda3\\envs\\manifolds\\lib\\site-packages (from matplotlib->suite2p==0.12.1) (3.0.9)\n",
      "Requirement already satisfied: cycler>=0.10 in c:\\users\\mauls\\miniconda3\\envs\\manifolds\\lib\\site-packages (from matplotlib->suite2p==0.12.1) (0.11.0)\n",
      "Requirement already satisfied: importlib-resources>=3.2.0 in c:\\users\\mauls\\miniconda3\\envs\\manifolds\\lib\\site-packages (from matplotlib->suite2p==0.12.1) (5.12.0)\n",
      "Requirement already satisfied: python-dateutil>=2.7 in c:\\users\\mauls\\miniconda3\\envs\\manifolds\\lib\\site-packages (from matplotlib->suite2p==0.12.1) (2.8.2)\n",
      "Requirement already satisfied: resource-backed-dask-array in c:\\users\\mauls\\miniconda3\\envs\\manifolds\\lib\\site-packages (from nd2->suite2p==0.12.1) (0.1.0)\n",
      "Requirement already satisfied: bcrypt>=3.2 in c:\\users\\mauls\\miniconda3\\envs\\manifolds\\lib\\site-packages (from paramiko->suite2p==0.12.1) (4.0.1)\n",
      "Requirement already satisfied: pynacl>=1.5 in c:\\users\\mauls\\miniconda3\\envs\\manifolds\\lib\\site-packages (from paramiko->suite2p==0.12.1) (1.5.0)\n",
      "Requirement already satisfied: cryptography>=3.3 in c:\\users\\mauls\\miniconda3\\envs\\manifolds\\lib\\site-packages (from paramiko->suite2p==0.12.1) (40.0.2)\n",
      "Requirement already satisfied: threadpoolctl>=2.0.0 in c:\\users\\mauls\\miniconda3\\envs\\manifolds\\lib\\site-packages (from scikit-learn->suite2p==0.12.1) (3.1.0)\n",
      "Requirement already satisfied: joblib>=1.1.1 in c:\\users\\mauls\\miniconda3\\envs\\manifolds\\lib\\site-packages (from scikit-learn->suite2p==0.12.1) (1.2.0)\n",
      "Requirement already satisfied: cffi>=1.12 in c:\\users\\mauls\\miniconda3\\envs\\manifolds\\lib\\site-packages (from cryptography>=3.3->paramiko->suite2p==0.12.1) (1.15.1)\n",
      "Requirement already satisfied: six>=1.5 in c:\\users\\mauls\\miniconda3\\envs\\manifolds\\lib\\site-packages (from python-dateutil>=2.7->matplotlib->suite2p==0.12.1) (1.16.0)\n",
      "Requirement already satisfied: dask[array] in c:\\users\\mauls\\miniconda3\\envs\\manifolds\\lib\\site-packages (from resource-backed-dask-array->nd2->suite2p==0.12.1) (2023.4.1)\n",
      "Requirement already satisfied: colorama in c:\\users\\mauls\\miniconda3\\envs\\manifolds\\lib\\site-packages (from tqdm->cellpose->suite2p==0.12.1) (0.4.6)\n",
      "Requirement already satisfied: pycparser in c:\\users\\mauls\\miniconda3\\envs\\manifolds\\lib\\site-packages (from cffi>=1.12->cryptography>=3.3->paramiko->suite2p==0.12.1) (2.21)\n",
      "Requirement already satisfied: cloudpickle>=1.5.0 in c:\\users\\mauls\\miniconda3\\envs\\manifolds\\lib\\site-packages (from dask[array]->resource-backed-dask-array->nd2->suite2p==0.12.1) (2.2.1)\n",
      "Requirement already satisfied: toolz>=0.10.0 in c:\\users\\mauls\\miniconda3\\envs\\manifolds\\lib\\site-packages (from dask[array]->resource-backed-dask-array->nd2->suite2p==0.12.1) (0.12.0)\n",
      "Requirement already satisfied: fsspec>=2021.09.0 in c:\\users\\mauls\\miniconda3\\envs\\manifolds\\lib\\site-packages (from dask[array]->resource-backed-dask-array->nd2->suite2p==0.12.1) (2023.5.0)\n",
      "Requirement already satisfied: click>=8.0 in c:\\users\\mauls\\miniconda3\\envs\\manifolds\\lib\\site-packages (from dask[array]->resource-backed-dask-array->nd2->suite2p==0.12.1) (8.1.3)\n",
      "Requirement already satisfied: partd>=1.2.0 in c:\\users\\mauls\\miniconda3\\envs\\manifolds\\lib\\site-packages (from dask[array]->resource-backed-dask-array->nd2->suite2p==0.12.1) (1.4.0)\n",
      "Requirement already satisfied: locket in c:\\users\\mauls\\miniconda3\\envs\\manifolds\\lib\\site-packages (from partd>=1.2.0->dask[array]->resource-backed-dask-array->nd2->suite2p==0.12.1) (1.0.0)\n",
      "Note: you may need to restart the kernel to use updated packages.\n",
      "Requirement already satisfied: matplotlib==3.7.1 in c:\\users\\mauls\\miniconda3\\envs\\manifolds\\lib\\site-packages (3.7.1)\n",
      "Requirement already satisfied: scipy==1.10.1 in c:\\users\\mauls\\miniconda3\\envs\\manifolds\\lib\\site-packages (1.10.1)\n",
      "Requirement already satisfied: tqdm==4.65.0 in c:\\users\\mauls\\miniconda3\\envs\\manifolds\\lib\\site-packages (4.65.0)\n",
      "Requirement already satisfied: scikit-learn==1.2.2 in c:\\users\\mauls\\miniconda3\\envs\\manifolds\\lib\\site-packages (1.2.2)\n",
      "Requirement already satisfied: pyparsing>=2.3.1 in c:\\users\\mauls\\miniconda3\\envs\\manifolds\\lib\\site-packages (from matplotlib==3.7.1) (3.0.9)\n",
      "Requirement already satisfied: contourpy>=1.0.1 in c:\\users\\mauls\\miniconda3\\envs\\manifolds\\lib\\site-packages (from matplotlib==3.7.1) (1.0.7)\n",
      "Requirement already satisfied: importlib-resources>=3.2.0 in c:\\users\\mauls\\miniconda3\\envs\\manifolds\\lib\\site-packages (from matplotlib==3.7.1) (5.12.0)\n",
      "Requirement already satisfied: fonttools>=4.22.0 in c:\\users\\mauls\\miniconda3\\envs\\manifolds\\lib\\site-packages (from matplotlib==3.7.1) (4.39.3)\n",
      "Requirement already satisfied: numpy>=1.20 in c:\\users\\mauls\\miniconda3\\envs\\manifolds\\lib\\site-packages (from matplotlib==3.7.1) (1.23.5)\n",
      "Requirement already satisfied: pillow>=6.2.0 in c:\\users\\mauls\\miniconda3\\envs\\manifolds\\lib\\site-packages (from matplotlib==3.7.1) (9.5.0)\n",
      "Requirement already satisfied: packaging>=20.0 in c:\\users\\mauls\\miniconda3\\envs\\manifolds\\lib\\site-packages (from matplotlib==3.7.1) (23.1)\n",
      "Requirement already satisfied: python-dateutil>=2.7 in c:\\users\\mauls\\miniconda3\\envs\\manifolds\\lib\\site-packages (from matplotlib==3.7.1) (2.8.2)\n",
      "Requirement already satisfied: kiwisolver>=1.0.1 in c:\\users\\mauls\\miniconda3\\envs\\manifolds\\lib\\site-packages (from matplotlib==3.7.1) (1.4.4)\n",
      "Requirement already satisfied: cycler>=0.10 in c:\\users\\mauls\\miniconda3\\envs\\manifolds\\lib\\site-packages (from matplotlib==3.7.1) (0.11.0)\n",
      "Requirement already satisfied: colorama in c:\\users\\mauls\\miniconda3\\envs\\manifolds\\lib\\site-packages (from tqdm==4.65.0) (0.4.6)\n",
      "Requirement already satisfied: threadpoolctl>=2.0.0 in c:\\users\\mauls\\miniconda3\\envs\\manifolds\\lib\\site-packages (from scikit-learn==1.2.2) (3.1.0)\n",
      "Requirement already satisfied: joblib>=1.1.1 in c:\\users\\mauls\\miniconda3\\envs\\manifolds\\lib\\site-packages (from scikit-learn==1.2.2) (1.2.0)\n",
      "Requirement already satisfied: zipp>=3.1.0 in c:\\users\\mauls\\miniconda3\\envs\\manifolds\\lib\\site-packages (from importlib-resources>=3.2.0->matplotlib==3.7.1) (3.15.0)\n",
      "Requirement already satisfied: six>=1.5 in c:\\users\\mauls\\miniconda3\\envs\\manifolds\\lib\\site-packages (from python-dateutil>=2.7->matplotlib==3.7.1) (1.16.0)\n",
      "Note: you may need to restart the kernel to use updated packages.\n",
      "Requirement already satisfied: pandas==2.0.1 in c:\\users\\mauls\\miniconda3\\envs\\manifolds\\lib\\site-packages (2.0.1)\n",
      "Requirement already satisfied: networkx==3.1 in c:\\users\\mauls\\miniconda3\\envs\\manifolds\\lib\\site-packages (3.1)\n",
      "Requirement already satisfied: opencv-python==4.7.0.72 in c:\\users\\mauls\\miniconda3\\envs\\manifolds\\lib\\site-packages (4.7.0.72)\n",
      "Requirement already satisfied: numpy>=1.20.3 in c:\\users\\mauls\\miniconda3\\envs\\manifolds\\lib\\site-packages (from pandas==2.0.1) (1.23.5)\n",
      "Requirement already satisfied: python-dateutil>=2.8.2 in c:\\users\\mauls\\miniconda3\\envs\\manifolds\\lib\\site-packages (from pandas==2.0.1) (2.8.2)\n",
      "Requirement already satisfied: pytz>=2020.1 in c:\\users\\mauls\\miniconda3\\envs\\manifolds\\lib\\site-packages (from pandas==2.0.1) (2023.3)\n",
      "Requirement already satisfied: tzdata>=2022.1 in c:\\users\\mauls\\miniconda3\\envs\\manifolds\\lib\\site-packages (from pandas==2.0.1) (2023.3)\n",
      "Requirement already satisfied: six>=1.5 in c:\\users\\mauls\\miniconda3\\envs\\manifolds\\lib\\site-packages (from python-dateutil>=2.8.2->pandas==2.0.1) (1.16.0)\n",
      "Note: you may need to restart the kernel to use updated packages.\n"
     ]
    }
   ],
   "source": [
    "# install needed packages\n",
    "%pip install pyyaml==6.0 numpy==1.23.5 suite2p==0.12.1 parmap==1.6.0\n",
    "%pip install matplotlib==3.7.1 scipy==1.10.1 tqdm==4.65.0 scikit-learn==1.2.2\n",
    "%pip install pandas==2.0.1 networkx==3.1 opencv-python==4.7.0.72\n",
    "#donatolabs"
   ]
  },
  {
   "cell_type": "code",
   "execution_count": 2,
   "metadata": {},
   "outputs": [
    {
     "name": "stderr",
     "output_type": "stream",
     "text": [
      "C:\\Users\\mauls\\AppData\\Local\\Temp\\ipykernel_33328\\1202132604.py:11: DeprecationWarning: Importing display from IPython.core.display is deprecated since IPython 7.14, please import from IPython display\n",
      "  from IPython.core.display import display, HTML\n"
     ]
    },
    {
     "data": {
      "application/javascript": "IPython.notebook.set_autosave_interval(180000)"
     },
     "metadata": {},
     "output_type": "display_data"
    },
    {
     "name": "stdout",
     "output_type": "stream",
     "text": [
      "Autosaving every 180 seconds\n"
     ]
    }
   ],
   "source": [
    "# work with files \n",
    "import yaml\n",
    "import copy\n",
    "\n",
    "# do Math stuff\n",
    "from itertools import permutations\n",
    "import numpy as np\n",
    "import sys\n",
    "import os\n",
    "\n",
    "from IPython.core.display import display, HTML\n",
    "\n",
    "\n",
    "# Suite2p for TIFF file analysis\n",
    "import suite2p\n",
    "from suite2p.run_s2p import run_s2p, default_ops\n",
    "from suite2p.registration import register\n",
    "\n",
    "module_path = os.path.abspath(os.path.join('../'))\n",
    "module_path = os.path.abspath(os.path.join('../../'))\n",
    "sys.path.append(module_path)\n",
    "from Multi_session_alignment_classes_functions import *\n",
    "from manifolds.donlabtools.utils.calcium import calcium\n",
    "from manifolds.donlabtools.utils.calcium.calcium import *\n",
    "\n",
    "# usefull jupyter settings\n",
    "%matplotlib inline\n",
    "#%matplotlib tk\n",
    "%autosave 180\n",
    "%load_ext autoreload\n",
    "%autoreload 2\n",
    "%config Completer.use_jedi = False"
   ]
  },
  {
   "cell_type": "code",
   "execution_count": 3,
   "metadata": {},
   "outputs": [
    {
     "name": "stdout",
     "output_type": "stream",
     "text": [
      "Package                       Version\n",
      "----------------------------- ---------\n",
      "anyio                         3.6.2\n",
      "argon2-cffi                   21.3.0\n",
      "argon2-cffi-bindings          21.2.0\n",
      "arrow                         1.2.3\n",
      "asciitree                     0.3.3\n",
      "asttokens                     2.2.1\n",
      "attrs                         23.1.0\n",
      "backcall                      0.2.0\n",
      "backports.functools-lru-cache 1.6.4\n",
      "bcrypt                        4.0.1\n",
      "beautifulsoup4                4.12.2\n",
      "bleach                        6.0.0\n",
      "bokeh                         3.1.1\n",
      "cellpose                      2.2\n",
      "certifi                       2023.7.22\n",
      "cffi                          1.15.1\n",
      "charset-normalizer            3.2.0\n",
      "click                         8.1.3\n",
      "cloudpickle                   2.2.1\n",
      "colorama                      0.4.6\n",
      "contourpy                     1.0.7\n",
      "cryptography                  40.0.2\n",
      "cycler                        0.11.0\n",
      "dask                          2023.4.1\n",
      "debugpy                       1.5.1\n",
      "decorator                     4.4.2\n",
      "defusedxml                    0.7.1\n",
      "dill                          0.3.6\n",
      "donlabtools                   0.22\n",
      "entrypoints                   0.4\n",
      "et-xmlfile                    1.1.0\n",
      "executing                     1.2.0\n",
      "fasteners                     0.18\n",
      "fastjsonschema                2.16.3\n",
      "fastremap                     1.13.4\n",
      "ffmpeg                        1.4\n",
      "ffmpeg-python                 0.2.0\n",
      "fonttools                     4.39.3\n",
      "fqdn                          1.5.1\n",
      "fsspec                        2023.5.0\n",
      "future                        0.18.3\n",
      "h5py                          3.8.0\n",
      "hdmf                          3.6.1\n",
      "idna                          3.4\n",
      "imagecodecs                   2023.3.16\n",
      "imageio                       2.31.3\n",
      "imageio-ffmpeg                0.4.8\n",
      "import-ipynb                  0.1.4\n",
      "importlib-metadata            6.6.0\n",
      "importlib-resources           5.12.0\n",
      "ipykernel                     6.15.0\n",
      "ipympl                        0.9.3\n",
      "ipython                       8.4.0\n",
      "ipython-genutils              0.2.0\n",
      "ipywidgets                    8.0.6\n",
      "isoduration                   20.11.0\n",
      "jedi                          0.18.2\n",
      "Jinja2                        3.1.2\n",
      "joblib                        1.2.0\n",
      "jsonpointer                   2.3\n",
      "jsonschema                    4.17.3\n",
      "jupyter                       1.0.0\n",
      "jupyter_client                8.2.0\n",
      "jupyter-console               6.6.3\n",
      "jupyter_core                  5.3.0\n",
      "jupyter-events                0.6.3\n",
      "jupyter_server                2.5.0\n",
      "jupyter_server_terminals      0.4.4\n",
      "jupyterlab-pygments           0.2.2\n",
      "jupyterlab-widgets            3.0.7\n",
      "kiwisolver                    1.4.4\n",
      "lazy-ops                      0.2.0\n",
      "llvmlite                      0.40.0\n",
      "locket                        1.0.0\n",
      "MarkupSafe                    2.1.2\n",
      "matplotlib                    3.7.1\n",
      "matplotlib-inline             0.1.6\n",
      "mistune                       2.0.5\n",
      "more-itertools                9.1.0\n",
      "moviepy                       1.0.3\n",
      "mpld3                         0.5.9\n",
      "natsort                       8.3.1\n",
      "nbclassic                     1.0.0\n",
      "nbclient                      0.7.4\n",
      "nbconvert                     7.4.0\n",
      "nbformat                      5.8.0\n",
      "nd2                           0.5.3\n",
      "nest-asyncio                  1.5.6\n",
      "networkx                      3.1\n",
      "notebook                      6.5.4\n",
      "notebook_shim                 0.2.3\n",
      "numba                         0.57.0\n",
      "numcodecs                     0.11.0\n",
      "numpy                         1.23.5\n",
      "opencv-python                 4.7.0.72\n",
      "opencv-python-headless        4.7.0.72\n",
      "openpyxl                      3.1.2\n",
      "packaging                     23.1\n",
      "pandas                        2.0.1\n",
      "pandocfilters                 1.5.0\n",
      "paramiko                      3.1.0\n",
      "parmap                        1.6.0\n",
      "parso                         0.8.3\n",
      "partd                         1.4.0\n",
      "pickleshare                   0.7.5\n",
      "Pillow                        9.5.0\n",
      "pip                           23.0.1\n",
      "pkgutil_resolve_name          1.3.10\n",
      "platformdirs                  3.5.0\n",
      "plotly                        5.15.0\n",
      "proglog                       0.1.10\n",
      "prometheus-client             0.16.0\n",
      "prompt-toolkit                3.0.38\n",
      "psutil                        5.9.0\n",
      "pure-eval                     0.2.2\n",
      "pycparser                     2.21\n",
      "Pygments                      2.15.1\n",
      "PyNaCl                        1.5.0\n",
      "pynwb                         2.3.2\n",
      "pyparsing                     3.0.9\n",
      "pyqtgraph                     0.13.3\n",
      "pyrsistent                    0.19.3\n",
      "python-dateutil               2.8.2\n",
      "python-json-logger            2.0.7\n",
      "pytz                          2023.3\n",
      "pywin32                       305.1\n",
      "pywinpty                      2.0.10\n",
      "PyYAML                        6.0\n",
      "pyzmq                         25.0.2\n",
      "qtconsole                     5.4.3\n",
      "QtPy                          2.3.1\n",
      "rastermap                     0.1.3\n",
      "requests                      2.31.0\n",
      "resource-backed-dask-array    0.1.0\n",
      "rfc3339-validator             0.1.4\n",
      "rfc3986-validator             0.1.1\n",
      "roiextractors                 0.5.2\n",
      "ruamel.yaml                   0.17.31\n",
      "ruamel.yaml.clib              0.2.7\n",
      "sbxreader                     0.2.2\n",
      "scanimage-tiff-reader         1.4.1\n",
      "scikit-learn                  1.2.2\n",
      "scipy                         1.10.1\n",
      "seaborn                       0.12.2\n",
      "Send2Trash                    1.8.2\n",
      "setuptools                    66.0.0\n",
      "six                           1.16.0\n",
      "sniffio                       1.3.0\n",
      "soupsieve                     2.4.1\n",
      "stack-data                    0.6.2\n",
      "suite2p                       0.12.1\n",
      "tenacity                      8.2.2\n",
      "terminado                     0.17.1\n",
      "threadpoolctl                 3.1.0\n",
      "tifffile                      2023.4.12\n",
      "tinycss2                      1.2.1\n",
      "toolz                         0.12.0\n",
      "torch                         1.13.1\n",
      "tornado                       6.2\n",
      "tqdm                          4.65.0\n",
      "traitlets                     5.9.0\n",
      "typing_extensions             4.5.0\n",
      "tzdata                        2023.3\n",
      "uri-template                  1.2.0\n",
      "urllib3                       2.0.4\n",
      "varname                       0.11.2\n",
      "wcwidth                       0.2.6\n",
      "webcolors                     1.13\n",
      "webencodings                  0.5.1\n",
      "websocket-client              1.5.1\n",
      "wheel                         0.38.4\n",
      "widgetsnbextension            4.0.7\n",
      "xyzservices                   2023.5.0\n",
      "zarr                          2.14.2\n",
      "zipp                          3.15.0\n"
     ]
    }
   ],
   "source": [
    "!pip list"
   ]
  },
  {
   "cell_type": "markdown",
   "metadata": {},
   "source": [
    "## Setting"
   ]
  },
  {
   "cell_type": "code",
   "execution_count": 3,
   "metadata": {},
   "outputs": [],
   "source": [
    "learning_mode = True"
   ]
  },
  {
   "cell_type": "markdown",
   "metadata": {},
   "source": [
    "# Merging BMI sessions"
   ]
  },
  {
   "cell_type": "markdown",
   "metadata": {
    "jp-MarkdownHeadingCollapsed": true
   },
   "source": [
    "## HowTo"
   ]
  },
  {
   "cell_type": "code",
   "execution_count": 4,
   "metadata": {},
   "outputs": [],
   "source": [
    "# How it should be used (compact format)\n",
    "# Load wanted animal data from root directory\n",
    "if not learning_mode:\n",
    "    root_dir = \"D:\\\\Animals\" \n",
    "    Animal.root_dir = \"D:\\\\Animals\" \n",
    "    plot_contour_pairs = False\n",
    "    #day1_20230303\n",
    "    #lastday_20230309\n",
    "    wanted_animal_ids = [\"DON-011733\"] \n",
    "    wanted_session_ids = [\"day0\", \"20230303\", \"20230309\"] \n",
    "    #wanted_animal_ids = [\"all\"]\n",
    "    #wanted_session_ids = [\"all\"]\n",
    "    # only set restore to True, if you want to get original suite2p data instead of suite2p data based on merged mask\n",
    "    animals = load_all(root_dir, wanted_animal_ids=wanted_animal_ids, restore=False,\n",
    "                       wanted_session_ids=wanted_session_ids, print_loading=True)\n",
    "    viz = Vizualizer(animals)\n",
    "    for animal_id, animal in animals.items():\n",
    "        # only set restore to True, if you want to recompute the merged session\n",
    "        merged_session = animal.merge_sessions(restore=False, reference_session_id=\"day0\",\n",
    "                                               regenerate=True)\n",
    "\n",
    "        # Plotting results\n",
    "        viz.session_footprints(merged_session, figsize=(5,5))\n",
    "        viz.session_contours(merged_session, figsize=(10,10), plot_center=False)\n",
    "        viz.bursts(merged_session.animal_id, merged_session.session_id, fluorescence_type=\"F_detrended\")\n",
    "\n",
    "        # Plot contours of sessions in pairs of 2 for all combinations, with and without shift\n",
    "        if plot_contour_pairs:\n",
    "            sessions = animals[animal_id].sessions\n",
    "            figsize=(20, 20)\n",
    "            session_ids = list(sessions.keys())\n",
    "            combinations = list(permutations(session_ids, 2))\n",
    "            session_id_numbering = range(len(session_ids))\n",
    "            numbering_combinations = list(permutations(session_id_numbering, 2))\n",
    "            for num_combination, combination in zip(numbering_combinations, combinations):\n",
    "                if num_combination[0] < num_combination[1]:\n",
    "                    viz.multi_session_contours(sessions, combination=combination, plot_center=True, shift=False, figsize=figsize)\n",
    "                    viz.multi_session_contours(sessions, combination=combination, plot_center=True, shift=True, figsize=figsize) "
   ]
  },
  {
   "cell_type": "markdown",
   "metadata": {},
   "source": [
    "## Detailed procedure for understanding \n",
    "- only using 3 sessions for faster computation"
   ]
  },
  {
   "cell_type": "markdown",
   "metadata": {},
   "source": [
    "### Define yx-shift if not defined for every session"
   ]
  },
  {
   "cell_type": "code",
   "execution_count": 5,
   "metadata": {
    "scrolled": true
   },
   "outputs": [
    {
     "name": "stdout",
     "output_type": "stream",
     "text": [
      "Added animal: DON-011733\n",
      "/scicore/projects/donafl00-calcium/Users/Sergej/test/DON-011733/day0/DON-011733_20230302.yaml\n",
      "Initialized session: DON-011733 day0\n",
      "DON-011733\n",
      "day0\n",
      "/scicore/projects/donafl00-calcium/Users/Sergej/test/DON-011733/day0/plane0\n",
      "Getting cabincorr data from /scicore/projects/donafl00-calcium/Users/Sergej/test/DON-011733/day0/plane0\n",
      "/scicore/projects/donafl00-calcium/Users/Sergej/test/DON-011733/20230303/DON-011733_20230303.yaml\n",
      "Initialized updated session: DON-011733 20230303\n",
      "Restored original suite2p files\n",
      "DON-011733\n",
      "20230303\n",
      "/scicore/projects/donafl00-calcium/Users/Sergej/test/DON-011733/20230303/plane0\n",
      "Getting cabincorr data from /scicore/projects/donafl00-calcium/Users/Sergej/test/DON-011733/20230303/plane0\n",
      "/scicore/projects/donafl00-calcium/Users/Sergej/test/DON-011733/20230309/DON-011733_20230309.yaml\n",
      "Initialized session: DON-011733 20230309\n",
      "DON-011733\n",
      "20230309\n",
      "/scicore/projects/donafl00-calcium/Users/Sergej/test/DON-011733/20230309/plane0\n",
      "Getting cabincorr data from /scicore/projects/donafl00-calcium/Users/Sergej/test/DON-011733/20230309/plane0\n"
     ]
    }
   ],
   "source": [
    "# Load wanted animal data from root directory\n",
    "root_dir = \"D:\\\\Animals\" \n",
    "root_dir = \"/scicore/projects/donafl00-calcium/Users/Sergej/Animals\" \n",
    "Animal.root_dir = root_dir\n",
    "#day1_20230303\n",
    "#lastday_20230309\n",
    "wanted_animal_ids = [\"DON-011733\"] #[\"all\"]\n",
    "wanted_session_ids = [\"day0\", \"20230303\", \"20230309\"] #[\"all\"]\n",
    "wanted_session_ids = [\"all\"]\n",
    "animals = load_all(root_dir, wanted_animal_ids=wanted_animal_ids, restore=True,\n",
    "                       wanted_session_ids=wanted_session_ids, print_loading=True)"
   ]
  },
  {
   "cell_type": "code",
   "execution_count": 6,
   "metadata": {},
   "outputs": [
    {
     "name": "stdout",
     "output_type": "stream",
     "text": [
      "Reference session date: 20230302\n"
     ]
    }
   ],
   "source": [
    "#set reference session\n",
    "animal_id = \"DON-011733\"\n",
    "session_id = \"day0\" #\"20230303\"\n",
    "animal = animals[animal_id]\n",
    "sessions = animal.sessions\n",
    "reference_session = sessions[session_id]\n",
    "print(f\"Reference session date: {reference_session.date}\")"
   ]
  },
  {
   "cell_type": "code",
   "execution_count": 7,
   "metadata": {},
   "outputs": [
    {
     "name": "stdout",
     "output_type": "stream",
     "text": [
      "20230303 shift: [7, 2]\n",
      "20230309 shift: [-2, -1]\n",
      "day0 shift: [0, 0]\n"
     ]
    }
   ],
   "source": [
    "# Define xy shift between intervidual sessions (only for intrasessional data)\n",
    "for session_id, session in sessions.items():  \n",
    "    session.set_yx_shift(reference_session)\n",
    "    print(f\"{session_id} shift: {session.yx_shift}\")"
   ]
  },
  {
   "cell_type": "markdown",
   "metadata": {},
   "source": [
    "### Merge sessions"
   ]
  },
  {
   "cell_type": "code",
   "execution_count": 8,
   "metadata": {},
   "outputs": [
    {
     "name": "stdout",
     "output_type": "stream",
     "text": [
      "Restored original suite2p files\n",
      "Backup path already exists. Skipping\n",
      "DON-011733\n",
      "20230303\n",
      "/scicore/projects/donafl00-calcium/Users/Sergej/test/DON-011733/20230303/plane0\n",
      "Getting cabincorr data from /scicore/projects/donafl00-calcium/Users/Sergej/test/DON-011733/20230303/plane0\n"
     ]
    }
   ],
   "source": [
    "# load original data\n",
    "for session_id, session in sessions.items():\n",
    "    if session.updated:\n",
    "        backup_path_files(session.suite2p_path, restore=True) \n",
    "        backup_path_files(session.suite2p_path, restore=False)\n",
    "        session.updated = False\n",
    "        session.change_yaml_file(\"updated\", False)\n",
    "        session.c, session.contours, session.footprints = session.get_c_contours_footprints()"
   ]
  },
  {
   "cell_type": "code",
   "execution_count": null,
   "metadata": {},
   "outputs": [],
   "source": [
    "# create a master mask by\n",
    "# merging masks of every session, \n",
    "# by shifting and rotating cells, remove abroad cells and deduplicate\n",
    "merger = Merger()\n",
    "merged_stat = merger.merge_stat(sessions, reference_session, parallel = True)\n",
    "print(f\"Number of cells after merging: {merged_stat.shape[0]}\")"
   ]
  },
  {
   "cell_type": "code",
   "execution_count": null,
   "metadata": {},
   "outputs": [],
   "source": [
    "updated_sessions = {}\n",
    "merged_unit_id = \"\"\n",
    "Animal.root_dir = root_dir\n",
    "for session_id, session in sessions.items():\n",
    "    if session.session_type==\"merged\": #session_id in updated_sessions or :\n",
    "        continue\n",
    "    print(f\"Updating session {session_id}\")\n",
    "    # shift and rotate merged mask and update suite2p files in session\n",
    "    merger.shift_update_session_s2p_files(session, merged_stat)\n",
    "    session.change_yaml_file(\"updated\", True)\n",
    "    updated_sessions[session_id] = Session(session.yaml_file_path,\n",
    "                                           session.animal_id,\n",
    "                                           print_loading=True)\n",
    "    updated_sessions[session_id].pday = session.pday\n",
    "    updated_sessions[session_id].load_data(restore=False, regenerate=True)\n",
    "#animal.sessions = updated_sessions"
   ]
  },
  {
   "cell_type": "code",
   "execution_count": 11,
   "metadata": {},
   "outputs": [],
   "source": [
    "# concatenate S2P results\n",
    "#merged_s2p_path = merger.merge_s2p_files(updated_sessions, merged_stat) #FIXME: this is the correct code\n",
    "merged_s2p_path = merger.merge_s2p_files(sessions, merged_stat) # only testing"
   ]
  },
  {
   "cell_type": "code",
   "execution_count": null,
   "metadata": {},
   "outputs": [],
   "source": [
    "# create session object with merged session data\n",
    "merged_yaml_path = merger.merge_yaml_metadata(sessions, reference_session)\n",
    "merged_session = Session(merged_yaml_path,\n",
    "                         animal_id=animal.animal_id, \n",
    "                         print_loading=True)\n",
    "merged_session.load_data(restore=False, regenerate=True)\n",
    "animal.sessions[\"merged\"] = merged_session"
   ]
  },
  {
   "cell_type": "code",
   "execution_count": null,
   "metadata": {},
   "outputs": [],
   "source": [
    "# plot standard footprints, contours, bursts\n",
    "viz = Vizualizer(animals)\n",
    "for animal_id, session_id, session in yield_animal_session(animals):\n",
    "    if session.session_type == \"merged\":\n",
    "        continue\n",
    "    viz.session_footprints(session, figsize=(5,5))\n",
    "    viz.session_contours(session, figsize=(10,10), plot_center=False)\n",
    "    #viz.bursts(session.animal_id, session.session_id, fluorescence_type=\"F_filtered\")\n",
    "    traces = viz.bursts(session.animal_id, session.session_id, fluorescence_type=\"F_detrended\")"
   ]
  },
  {
   "cell_type": "code",
   "execution_count": null,
   "metadata": {
    "scrolled": true
   },
   "outputs": [],
   "source": [
    "# plot updated footprints, contours, bursts\n",
    "viz = Vizualizer(animals)\n",
    "for session_id, session in updated_sessions.items():\n",
    "    viz.session_footprints(session, figsize=(5,5))\n",
    "    viz.session_contours(session, figsize=(10,10), plot_center=False)\n",
    "    #viz.bursts(session.animal_id, session.session_id, fluorescence_type=\"F_filtered\")\n",
    "    traces = viz.bursts(session.animal_id, session.session_id, fluorescence_type=\"F_detrended\")"
   ]
  },
  {
   "cell_type": "code",
   "execution_count": null,
   "metadata": {
    "scrolled": true
   },
   "outputs": [],
   "source": [
    "viz = Vizualizer(animals)\n",
    "viz.session_footprints(merged_session, figsize=(5,5))\n",
    "viz.session_contours(merged_session, figsize=(10,10), plot_center=False)\n",
    "#viz.bursts(merged_session.animal_id, merged_session.session_id, fluorescence_type=\"F_filtered\")\n",
    "traces = viz.bursts(merged_session.animal_id, merged_session.session_id, fluorescence_type=\"F_detrended\")"
   ]
  },
  {
   "cell_type": "markdown",
   "metadata": {},
   "source": [
    "## More details about the procedure + visualizations"
   ]
  },
  {
   "cell_type": "markdown",
   "metadata": {},
   "source": [
    "### Define yx-shift for every session + Visualization"
   ]
  },
  {
   "cell_type": "markdown",
   "metadata": {
    "jp-MarkdownHeadingCollapsed": true
   },
   "source": [
    "#### Set yx-shift "
   ]
  },
  {
   "cell_type": "code",
   "execution_count": null,
   "metadata": {},
   "outputs": [],
   "source": [
    "\"\"\"Only for understanding purposes. The correct procedure is using shown in section HowTo\"\"\"\n",
    "#define reference image\n",
    "animal_id = \"DON-011733\"\n",
    "session_id = \"day0\"#\"20230303\"\n",
    "animal = animals[animal_id]\n",
    "sessions = animal.sessions \n",
    "reference_session = sessions[session_id]"
   ]
  },
  {
   "cell_type": "code",
   "execution_count": null,
   "metadata": {},
   "outputs": [],
   "source": [
    "\"\"\"Only for understanding purposes. The correct procedure is using shown in section HowTo\"\"\"\n",
    "viz = Vizualizer()\n",
    "viz.session_footprints(reference_session, figsize=(5,5))\n",
    "viz.session_contours(reference_session, figsize=(10,10), plot_center=False)"
   ]
  },
  {
   "cell_type": "code",
   "execution_count": null,
   "metadata": {},
   "outputs": [],
   "source": [
    "\"\"\"Only for understanding purposes. The correct procedure is using shown in section HowTo\"\"\"\n",
    "# Calculating yx_shifts for all sessions\n",
    "for i, s in sessions.items():\n",
    "    s.refImg = None\n",
    "refImg = reference_session.get_reference_image(n_frames_to_be_acquired=1000)\n",
    "refAndMasks = register.compute_reference_masks(refImg, reference_session.ops)\n",
    "\n",
    "# Plot reference Images\n",
    "for session_id, sess in sessions.items():\n",
    "    if session_id == reference_session.session_id:\n",
    "        continue   \n",
    "    sess.get_reference_image()\n",
    "    \n",
    "viz.multi_session_refImg(sessions, num_images_x=3)\n"
   ]
  },
  {
   "cell_type": "markdown",
   "metadata": {},
   "source": [
    "#### Visualize shifted, rotated Data"
   ]
  },
  {
   "cell_type": "code",
   "execution_count": null,
   "metadata": {
    "scrolled": true
   },
   "outputs": [],
   "source": [
    "#Plot session contour shift combinations for own Algorithm and for human evaluated values\n",
    "viz = Vizualizer()\n",
    "figsize=(20, 20)\n",
    "session_ids = list(sessions.keys())\n",
    "combinations = list(permutations(session_ids, 2))\n",
    "session_id_numbering = range(len(session_ids))\n",
    "numbering_combinations = list(permutations(session_id_numbering, 2))\n",
    "for num_combination, combination in zip(numbering_combinations, combinations):\n",
    "    if num_combination[0] < num_combination[1]:\n",
    "        if \"merged\" in combination:\n",
    "            colors = [\"white\"]*len(session_ids)\n",
    "            colors[num_combination[0]] = \"red\"\n",
    "            colors[num_combination[1]] = \"blue\"\n",
    "            viz.multi_session_contours(sessions=sessions, \n",
    "                                       combination=combination,\n",
    "                                       colors=colors,\n",
    "                                       plot_center=True, \n",
    "                                       transparent=True, \n",
    "                                       shift=True, \n",
    "                                       figsize=figsize)"
   ]
  },
  {
   "cell_type": "code",
   "execution_count": null,
   "metadata": {},
   "outputs": [],
   "source": [
    "#Plot session contour shift combinations for own Algorithm and for human evaluated values\n",
    "viz = Vizualizer()\n",
    "figsize=(20, 20)\n",
    "session_ids = [\"day0\", \"merged\"]# list(sessions.keys())\n",
    "combinations = list(permutations(session_ids, 2))\n",
    "session_id_numbering = range(len(session_ids))\n",
    "numbering_combinations = list(permutations(session_id_numbering, 2))\n",
    "for num_combination, combination in zip(numbering_combinations, combinations):\n",
    "    if num_combination[0] < num_combination[1]:\n",
    "        viz.multi_session_contours(sessions, combination=combination, plot_center=True, shift=False, figsize=figsize)\n",
    "        #viz.multi_session_contours(sessions, combination=combination, plot_center=True, shift=True, figsize=figsize)"
   ]
  },
  {
   "cell_type": "code",
   "execution_count": null,
   "metadata": {},
   "outputs": [],
   "source": [
    "\"\"\"Only for understanding purposes. The correct procedure is using shown in section HowTo\"\"\"\n",
    "#Plot session contour shift combinations for human evaluated values\n",
    "viz = Vizualizer()\n",
    "figsize=(20, 20)\n",
    "session_ids = list(sessions.keys())\n",
    "combinations = list(permutations(session_ids, 2))\n",
    "session_id_numbering = range(len(session_ids))\n",
    "numbering_combinations = list(permutations(session_id_numbering, 2))\n",
    "for num_combination, combination in zip(numbering_combinations, combinations):\n",
    "    if num_combination[0] < num_combination[1]:\n",
    "        viz.multi_session_contours(sessions, combination=combination, plot_center=True, shift=False, figsize=figsize)\n",
    "        viz.multi_session_contours(sessions, combination=combination, plot_center=True, shift=True, figsize=figsize)\n",
    "        if \"day0\" in combination or \"merged\" in combination:\n",
    "            # without roation\n",
    "            viz.multi_session_contours(sessions, combination=combination, plot_center=True, \n",
    "                                    shift=True, \n",
    "                                    yx_shift = None,\n",
    "                                    rot_angle = 0,\n",
    "                                    rot_center_yx = None,\n",
    "                                    figsize=figsize,\n",
    "                                    comment=\"without rotation\")                           \n",
    "            # Without shift\n",
    "            viz.multi_session_contours(sessions, combination=combination, plot_center=True, \n",
    "                                    shift=True, \n",
    "                                    yx_shift = [0, 0],\n",
    "                                    rot_angle = None,\n",
    "                                    rot_center_yx = None,\n",
    "                                    figsize=figsize,\n",
    "                                    comment=\"without shift\")\n",
    "\n",
    "# for every session: take the first 100 frames create a .gif and afterwards a .mp4 video\n",
    "if False:\n",
    "    for session_id, session in sessions.items():\n",
    "        l = Binary_loader()\n",
    "        num_frames = 100\n",
    "        binary_frames = l.load_binary(session.session_dir, num_frames)\n",
    "        save_dir = os.path.join(root_dir, \"figures\")\n",
    "        gif_name = f\"{session.animal_id}_{session.session_id}_0-{num_frames}.gif\"\n",
    "        ani = l.binary_frames_to_gif(binary_frames, frame_range=[0, num_frames], save_dir=save_dir, comment=f\"{session.animal_id}_{session.session_id}\")\n",
    "        gif_to_mp4(os.path.join(save_dir, gif_name))"
   ]
  },
  {
   "cell_type": "markdown",
   "metadata": {},
   "source": [
    "### Merge all Subsessions to create full animal fluorescence data"
   ]
  },
  {
   "cell_type": "markdown",
   "metadata": {},
   "source": [
    "Ask me (Sergej) for explanation. Had not enough time to create this section properly.\n",
    "1. create master mask called `merged_stat`\n",
    "   1. merge stat files of every session\n",
    "   2. remove abroad cells\n",
    "   3. deduplicate\n",
    "2. update suite2p files for every session based on `merged_stat`\n",
    "   1. shift merged_stat to individual yx_shifts of session\n",
    "   2. rerun suite2p based on shifted `merged_stat`\n",
    "   3. rerun cabincorr\n",
    "3. Create merged Session\n",
    "   1. create a new session folder called `merged`\n",
    "   2. concatenate updated suite2p files of every session and save it in `merged`\n",
    "   3. load merged session data with `session.get_session_data`"
   ]
  }
 ],
 "metadata": {
  "kernelspec": {
   "display_name": "Python 3 (ipykernel)",
   "language": "python",
   "name": "python3"
  },
  "language_info": {
   "codemirror_mode": {
    "name": "ipython",
    "version": 3
   },
   "file_extension": ".py",
   "mimetype": "text/x-python",
   "name": "python",
   "nbconvert_exporter": "python",
   "pygments_lexer": "ipython3",
   "version": "3.8.16"
  }
 },
 "nbformat": 4,
 "nbformat_minor": 4
}
