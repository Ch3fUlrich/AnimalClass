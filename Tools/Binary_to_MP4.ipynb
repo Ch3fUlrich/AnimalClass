{
 "cells": [
  {
   "cell_type": "markdown",
   "metadata": {},
   "source": [
    "# Init"
   ]
  },
  {
   "cell_type": "markdown",
   "metadata": {},
   "source": [
    "## install"
   ]
  },
  {
   "cell_type": "code",
   "execution_count": null,
   "metadata": {},
   "outputs": [],
   "source": [
    "# !pip install matplotlib\n",
    "# !pip install moviepy"
   ]
  },
  {
   "cell_type": "markdown",
   "metadata": {},
   "source": [
    "## Imports"
   ]
  },
  {
   "cell_type": "code",
   "execution_count": 1,
   "metadata": {},
   "outputs": [],
   "source": [
    "import numpy as np\n",
    "import os\n",
    "import matplotlib.pyplot as plt\n",
    "import matplotlib.animation as animation\n",
    "import moviepy.editor as mp"
   ]
  },
  {
   "cell_type": "markdown",
   "metadata": {},
   "source": [
    "## Functions"
   ]
  },
  {
   "cell_type": "code",
   "execution_count": null,
   "metadata": {},
   "outputs": [],
   "source": [
    "def search_file(directory, filename):\n",
    "    \"\"\"\n",
    "    This function searches for a file with a given filename within a specified directory and its subdirectories.\n",
    "\n",
    "    :param directory: The directory in which to search for the file.\n",
    "    :type directory: str\n",
    "    :param filename: The name of the file to search for.\n",
    "    :type filename: str\n",
    "    :return: The full path of the file if found, otherwise returns the string \"Not found\".\n",
    "    :rtype: str\n",
    "    \"\"\"\n",
    "    for root, dirs, files in os.walk(directory):\n",
    "        if filename in files:\n",
    "            return os.path.join(root, filename)\n",
    "    return None\n",
    "\n",
    "def gif_to_mp4(path):\n",
    "    \"\"\"\n",
    "    Converts a GIF file to an MP4 file.\n",
    "\n",
    "    This function takes the path of a GIF file as input, converts it to an MP4 file, and saves the resulting MP4 file in the same directory as the input GIF file. The name of the output MP4 file is the same as the input GIF file, with the file extension changed from `.gif` to `.mp4`.\n",
    "\n",
    "    Args:\n",
    "        path (str): The path of the input GIF file.\n",
    "\n",
    "    Returns:\n",
    "        None\n",
    "    \"\"\"\n",
    "    clip = mp.VideoFileClip(path)\n",
    "    save_path = path.split(\".\")[0]+\".mp4\"\n",
    "    clip.write_videofile(save_path)"
   ]
  },
  {
   "cell_type": "markdown",
   "metadata": {},
   "source": [
    "## Classes"
   ]
  },
  {
   "cell_type": "code",
   "execution_count": null,
   "metadata": {},
   "outputs": [],
   "source": [
    "class Binary_loader:\n",
    "    \"\"\"\n",
    "    A class for loading binary data and converting it into an animation.\n",
    "\n",
    "    This class provides methods for loading binary data from a file and converting a sequence of binary frames into an animated GIF. The `load_binary` method loads binary data from a specified file and returns it as a NumPy array. The `binary_frames_to_animation` method takes a sequence of binary frames and converts them into an animated GIF, which is saved to the specified directory.\n",
    "\n",
    "    Attributes:\n",
    "        None\n",
    "    \"\"\"\n",
    "    def load_binary(self, data_path, n_frames_to_be_acquired, fname=\"data.bin\", image_x_size=512, image_y_size=512):\n",
    "        \"\"\"\n",
    "        Loads binary data from a file.\n",
    "\n",
    "        This method takes the path of a binary data file as input, along with the number of frames to be acquired and the dimensions of each frame. It loads the binary data from the specified file and returns it as a NumPy array.\n",
    "\n",
    "        Args:\n",
    "            data_path (str): The path of the binary data file.\n",
    "            n_frames_to_be_acquired (int): The number of frames to be acquired from the binary data file.\n",
    "            fname (str): The name of the binary data file. Defaults to \"data.bin\".\n",
    "            image_x_size (int): The width of each frame in pixels. Defaults to 512.\n",
    "            image_y_size (int): The height of each frame in pixels. Defaults to 512.\n",
    "\n",
    "        Returns:\n",
    "            np.ndarray: A NumPy array containing the loaded binary data.\n",
    "        \"\"\"\n",
    "        # load binary file from suite2p_folder from unit\n",
    "        image_size=image_x_size*image_y_size\n",
    "        fpath = search_file(data_path, fname)\n",
    "        binary = np.memmap(fpath,\n",
    "                            dtype='uint16',\n",
    "                            mode='r',\n",
    "                            shape=(n_frames_to_be_acquired, image_x_size, image_y_size))\n",
    "        return binary\n",
    "    \n",
    "    def binary_frames_to_animation(self, frames, frame_range=[0, -1], save_dir=\"animation\"):\n",
    "        \"\"\"\n",
    "        Converts a sequence of binary frames into an animated GIF.\n",
    "\n",
    "        This method takes a sequence of binary frames as input, along with the range of frames to include in the animation and the directory in which to save the resulting GIF. It converts the specified frames into an animated GIF and saves it to the specified directory.\n",
    "\n",
    "        Args:\n",
    "            frames (np.ndarray): A NumPy array containing the sequence of binary frames.\n",
    "            frame_range (List[int]): A list specifying the range of frames to include in the animation. Defaults to [0, -1], which includes all frames.\n",
    "            save_dir (str): The dir.VideoFileClip(pectory in which to save the resulting GIF. Defaults to \"animation\".\n",
    "\n",
    "        Returns:\n",
    "            animation.ArtistAnimation: An instance of `animation.ArtistAnimation` representing the created animation.\n",
    "        \"\"\"\n",
    "        import matplotlib.animation as animation\n",
    "\n",
    "        range_start, range_end = frame_range\n",
    "        gif_save_path = os.path.join(save_dir, f\"{range_start}-{range_end}.gif\")\n",
    "\n",
    "        images = []\n",
    "        fig = plt.figure(figsize=(10, 5))\n",
    "        ax = fig.add_subplot(111)\n",
    "        for i, frame in enumerate(frames):\n",
    "            if i%100 == 0:\n",
    "                print(i)\n",
    "            p1 = ax.text(512/2-50, 0, f\"Frame {i}\", animated=True)\n",
    "            p2 = ax.imshow(frame, animated=True)\n",
    "            images.append([p1, p2])\n",
    "            if i > range_end:\n",
    "                break\n",
    "        ani = animation.ArtistAnimation(fig, images, interval=50, blit=True,\n",
    "                                        repeat_delay=1000)\n",
    "        ani.save(gif_save_path)\n",
    "        return ani"
   ]
  },
  {
   "cell_type": "markdown",
   "metadata": {},
   "source": [
    "# Main"
   ]
  },
  {
   "cell_type": "markdown",
   "metadata": {},
   "source": [
    "## Settings"
   ]
  },
  {
   "cell_type": "code",
   "execution_count": null,
   "metadata": {},
   "outputs": [],
   "source": [
    "# Set the path to the binary data\n",
    "data_path = r\"D:\\DON-018975\\20240304\\Red_alignment\"\n",
    "\n",
    "# Set the frame ranges to be converted into animations\n",
    "frame_ranges = [[50, 100], [500, 1000], [5000, 6000], [0, 9001]]\n",
    "\n",
    "# Set the dimensions of each frame in pixels\n",
    "image_x_size, image_y_size = 512, 512\n",
    "\n",
    "# Set the number of frames to be acquired from the binary data file\n",
    "n_frames_to_be_acquired = 111480 # sum of frames of every mesc file used for binary"
   ]
  },
  {
   "cell_type": "markdown",
   "metadata": {},
   "source": [
    "## Run Binary to mp4 (save location: *data_path/animation*)"
   ]
  },
  {
   "cell_type": "code",
   "execution_count": null,
   "metadata": {},
   "outputs": [],
   "source": [
    "# Create an instance of the Binary_loader class\n",
    "loader = Binary_loader()\n",
    "\n",
    "# Load binary data from the specified file using the load_binary method of the Binary_loader instance\n",
    "frames = loader.load_binary(data_path, n_frames_to_be_acquired, \"data.bin\", image_x_size, image_y_size)\n",
    "\n",
    "# Set the path for saving the animations\n",
    "animation_path = os.path.join(data_path, \"animation\")\n",
    "if not os.path.exists(animation_path):\n",
    "    os.mkdir(animation_path)\n",
    "\n",
    "# Loop through the specified frame ranges\n",
    "for start_frame, end_frame in frame_ranges:\n",
    "    # Convert the specified range of binary frames into an animated GIF using the binary_frames_to_animation method of the Binary_loader instance\n",
    "    loader.binary_frames_to_animation(frames=frames, frame_range=[start_frame, end_frame], save_dir=animation_path)\n",
    "    # Convert the resulting GIF into an MP4 file using the gif_to_mp4 function\n",
    "    gif_to_mp4(os.path.join(animation_path, f\"{start_frame}-{end_frame}\")+\".gif\")\n"
   ]
  }
 ],
 "metadata": {
  "kernelspec": {
   "display_name": "manifolds",
   "language": "python",
   "name": "python3"
  },
  "language_info": {
   "codemirror_mode": {
    "name": "ipython",
    "version": 3
   },
   "file_extension": ".py",
   "mimetype": "text/x-python",
   "name": "python",
   "nbconvert_exporter": "python",
   "pygments_lexer": "ipython3",
   "version": "3.8.16"
  },
  "orig_nbformat": 4
 },
 "nbformat": 4,
 "nbformat_minor": 2
}
